{
 "cells": [
  {
   "cell_type": "code",
   "execution_count": 1,
   "id": "94e52f82",
   "metadata": {},
   "outputs": [],
   "source": [
    "# !pip install pyfirmata"
   ]
  },
  {
   "cell_type": "code",
   "execution_count": null,
   "id": "54a79cda",
   "metadata": {},
   "outputs": [
    {
     "name": "stdout",
     "output_type": "stream",
     "text": [
      "Enter any number : rock\n"
     ]
    }
   ],
   "source": [
    "from pyfirmata import Arduino, SERVO, util\n",
    "from time import sleep\n",
    "\n",
    "port1 = 'COM6'\n",
    "\n",
    "pin1 = 10\n",
    "pin2 = 6\n",
    "\n",
    "board1 = Arduino(port1)\n",
    "\n",
    "board1.digital[pin1].mode = SERVO\n",
    "board1.digital[pin2].mode = SERVO\n",
    "\n",
    "def rotate_servo(pin1, pin2, angle):\n",
    "    \n",
    "    board1.digital[pin1].write(angle)\n",
    "    board1.digital[pin2].write(angle)\n",
    "    \n",
    "    sleep(1)\n",
    "    \n",
    "def rotate_servo_sci(pin1, pin2, angle):\n",
    "    \n",
    "    board1.digital[pin1].write(angle)\n",
    "#     board1.digital[pin2].write(angle)\n",
    "    \n",
    "    sleep(1)\n",
    "\n",
    "while(True):\n",
    "    x = input('Enter any number : ')\n",
    "    if x == 'rock':\n",
    "        rotate_servo_sci(pin1, pin2, 180)\n",
    "        sleep(1)\n",
    "#         rotate_servo(pin1, pin2, )\n",
    "    else:\n",
    "        rotate_servo(pin1, pin2, 180)\n",
    "        sleep(1)\n",
    "        rotate_servo(pin1, pin2, 0)"
   ]
  },
  {
   "cell_type": "code",
   "execution_count": null,
   "id": "ca9ed45e",
   "metadata": {},
   "outputs": [],
   "source": []
  }
 ],
 "metadata": {
  "kernelspec": {
   "display_name": "Python 3 (ipykernel)",
   "language": "python",
   "name": "python3"
  },
  "language_info": {
   "codemirror_mode": {
    "name": "ipython",
    "version": 3
   },
   "file_extension": ".py",
   "mimetype": "text/x-python",
   "name": "python",
   "nbconvert_exporter": "python",
   "pygments_lexer": "ipython3",
   "version": "3.7.9"
  }
 },
 "nbformat": 4,
 "nbformat_minor": 5
}
